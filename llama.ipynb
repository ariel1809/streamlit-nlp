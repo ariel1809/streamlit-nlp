{
 "cells": [
  {
   "cell_type": "code",
   "id": "initial_id",
   "metadata": {
    "collapsed": true,
    "ExecuteTime": {
     "end_time": "2024-12-31T10:57:22.787328Z",
     "start_time": "2024-12-31T10:57:22.229249Z"
    }
   },
   "source": "import ollama",
   "outputs": [],
   "execution_count": 6
  },
  {
   "metadata": {
    "ExecuteTime": {
     "end_time": "2024-12-31T11:03:06.340471Z",
     "start_time": "2024-12-31T10:57:38.130943Z"
    }
   },
   "cell_type": "code",
   "source": [
    "response = ollama.chat(model='llama3.1', messages=[\n",
    "    {'role': 'user', 'content': 'Peux-tu me parler des trous noirs ?'}\n",
    "])"
   ],
   "id": "57da36c9acd90083",
   "outputs": [],
   "execution_count": 7
  },
  {
   "metadata": {
    "ExecuteTime": {
     "end_time": "2024-12-31T11:03:14.893325Z",
     "start_time": "2024-12-31T11:03:14.872831Z"
    }
   },
   "cell_type": "code",
   "source": "print(response['message']['content'])",
   "id": "bee12e25f9db939b",
   "outputs": [
    {
     "name": "stdout",
     "output_type": "stream",
     "text": [
      "Les trous noirs sont de réels phénomènes physiques, et non la fatale destination dont nous parlons souvent dans les romans de science fiction ou à la télévision. Voici comment fonctionnent ces étranges objets du cosmos.\n",
      "\n",
      "**Qu'est-ce qu'un trou noir ?**\n",
      "\n",
      "Un trou noir est un objet astronomique extrêmement dense qui a une telle gravité qu'il ne peut pas s'échapper. Lorsqu'une étoile meurt, elle peut se contracter si fort que ses atomes sont comprimés dans un espace très petit, créant ainsi une région où la gravité est tellement forte que même la lumière ne peut pas en sortir.\n",
      "\n",
      "**Comment fonctionnent les trous noirs ?**\n",
      "\n",
      "Voici comment ça marche :\n",
      "\n",
      "- **Formation :** Un trou noir se forme généralement lorsque l'étoile qui mourrait s'est transformée en supernova, c'est-à-dire que son plasma a été projeté dans la galaxie. Lorsque cet événement se produit et que les atomes sont si fort comprimés qu'ils ne peuvent plus être divisés davantage par leur propre force de repoussement, le trou noir est formé.\n",
      "\n",
      "- **Gravité :** Comme déjà mentionné plus haut, la gravité d'un trou noir est si forte qu'elle engloutit tout ce qui l'approche. La masse d'une étoile doit être suffisamment grande pour qu'un tel événement puisse se produire.\n",
      "\n",
      "- **Zone d'évaporation :** Lorsque des objets très proches approchent, ils tombent dans la zone d'évaporation du trou noir. Il s'agit de l'espace qui sépare le trou noir de sa zone d'influence et là où les particules commencent à disparaître.\n",
      "\n",
      "- **Point singulier :** Le centre du trou noir se nomme point singulier. C'est une région très instable, puisque la gravité y est si forte que même les lois de l'espace sont affectées.\n",
      "\n",
      "- **Rayonnement Hawking :** Un phénomène curieux apparaît dans le rayonnement de Hawking qui décrit comment la température d'un trou noir varie en fonction de sa masse. C'est un phénomène lié à la mécanique quantique, il est donc un peu compliqué.\n",
      "\n",
      "- **Aperçu des trous noirs :** On ne voit pas les trous noirs directement, mais on peut les détecter par leurs effets sur leur environnement. Cela implique l'observation de mouvements d'étoiles qui s'y approchent et sont attirés.\n",
      "\n",
      "- **Classification :**\n",
      "\n",
      "  * **Sphères** ou **trous noirs sphériques** : c'est la forme la plus simple, où la matière est répartie de manière régulière.\n",
      "  * **Tubes** ou **trous noirs tubulaires** : ce sont des trous noirs étendus dans une direction donnée.\n"
     ]
    }
   ],
   "execution_count": 8
  },
  {
   "metadata": {
    "ExecuteTime": {
     "end_time": "2025-01-01T06:48:34.559161Z",
     "start_time": "2025-01-01T06:48:33.444077Z"
    }
   },
   "cell_type": "code",
   "source": "!nvidia-smi",
   "id": "1d1ec6646eb5e2f5",
   "outputs": [
    {
     "name": "stdout",
     "output_type": "stream",
     "text": [
      "Wed Jan  1 07:48:34 2025       \n",
      "+-----------------------------------------------------------------------------------------+\n",
      "| NVIDIA-SMI 566.14                 Driver Version: 566.14         CUDA Version: 12.7     |\n",
      "|-----------------------------------------+------------------------+----------------------+\n",
      "| GPU  Name                  Driver-Model | Bus-Id          Disp.A | Volatile Uncorr. ECC |\n",
      "| Fan  Temp   Perf          Pwr:Usage/Cap |           Memory-Usage | GPU-Util  Compute M. |\n",
      "|                                         |                        |               MIG M. |\n",
      "|=========================================+========================+======================|\n",
      "|   0  NVIDIA GeForce 940MX         WDDM  |   00000000:01:00.0 Off |                  N/A |\n",
      "| N/A    0C    P0             N/A /  200W |       0MiB /   2048MiB |      0%      Default |\n",
      "|                                         |                        |                  N/A |\n",
      "+-----------------------------------------+------------------------+----------------------+\n",
      "                                                                                         \n",
      "+-----------------------------------------------------------------------------------------+\n",
      "| Processes:                                                                              |\n",
      "|  GPU   GI   CI        PID   Type   Process name                              GPU Memory |\n",
      "|        ID   ID                                                               Usage      |\n",
      "|=========================================================================================|\n",
      "|  No running processes found                                                             |\n",
      "+-----------------------------------------------------------------------------------------+\n"
     ]
    }
   ],
   "execution_count": 9
  }
 ],
 "metadata": {
  "kernelspec": {
   "display_name": "Python 3",
   "language": "python",
   "name": "python3"
  },
  "language_info": {
   "codemirror_mode": {
    "name": "ipython",
    "version": 2
   },
   "file_extension": ".py",
   "mimetype": "text/x-python",
   "name": "python",
   "nbconvert_exporter": "python",
   "pygments_lexer": "ipython2",
   "version": "2.7.6"
  }
 },
 "nbformat": 4,
 "nbformat_minor": 5
}
